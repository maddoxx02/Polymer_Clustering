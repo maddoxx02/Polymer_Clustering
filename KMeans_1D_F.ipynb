{
 "cells": [
  {
   "cell_type": "code",
   "execution_count": 1,
   "metadata": {},
   "outputs": [
    {
     "name": "stderr",
     "output_type": "stream",
     "text": [
      "c:\\Users\\ashis\\anaconda3\\lib\\site-packages\\scipy\\__init__.py:146: UserWarning: A NumPy version >=1.16.5 and <1.23.0 is required for this version of SciPy (detected version 1.24.1\n",
      "  warnings.warn(f\"A NumPy version >={np_minversion} and <{np_maxversion}\"\n"
     ]
    }
   ],
   "source": [
    "import Working_Elements.datareader as read_raw\n",
    "import Clustering_Methods.Cluster_KMeans as KM\n",
    "import Working_Elements.Final_Plotter as final\n",
    "import Working_Elements.Initial_Plotter as initial\n",
    "\n",
    "import Working_Elements.Data_Processing.ONED_Fourier_Transform as F_1D\n",
    "\n",
    "# other ways to import the libraries from the Repo\n",
    "# #import Working_Elements.Data_Processing.ONE\n",
    "# #from Working_Elements.Data_Processing import ONED_Fourier_Transform as dd\n"
   ]
  },
  {
   "cell_type": "code",
   "execution_count": 2,
   "metadata": {},
   "outputs": [],
   "source": [
    "data, original = read_raw.reader(r\"C:\\Users\\ashis\\Python Notebooks\\Task 2\\Data - 1 - TXT\")"
   ]
  },
  {
   "cell_type": "code",
   "execution_count": 3,
   "metadata": {},
   "outputs": [],
   "source": [
    "# data: stores individual sample in the format of 1 Dimensional numpy array (e.g. [0,1,2,3,1,2,2,3,1,3,.... N*N])\n",
    "# original: stores the actual data from the sample in the dimension as is (e.g. [256,256] in csv,txt etc formats)"
   ]
  },
  {
   "cell_type": "code",
   "execution_count": 3,
   "metadata": {},
   "outputs": [],
   "source": [
    "S = F_1D.Process(original)"
   ]
  },
  {
   "cell_type": "code",
   "execution_count": 5,
   "metadata": {},
   "outputs": [
    {
     "name": "stderr",
     "output_type": "stream",
     "text": [
      "c:\\Users\\ashis\\anaconda3\\lib\\site-packages\\sklearn\\cluster\\_kmeans.py:1332: UserWarning: KMeans is known to have a memory leak on Windows with MKL, when there are less chunks than available threads. You can avoid it by setting the environment variable OMP_NUM_THREADS=1.\n",
      "  warnings.warn(\n"
     ]
    },
    {
     "data": {
      "text/plain": [
       "{0: [2, 5, 8, 9, 11, 14], 1: [1, 4, 6, 7, 10, 13], 2: [0, 3, 12]}"
      ]
     },
     "execution_count": 5,
     "metadata": {},
     "output_type": "execute_result"
    }
   ],
   "source": [
    "KM.K_MEANS(S[0], 3) # COLUMNS"
   ]
  },
  {
   "cell_type": "code",
   "execution_count": 6,
   "metadata": {},
   "outputs": [
    {
     "name": "stderr",
     "output_type": "stream",
     "text": [
      "c:\\Users\\ashis\\anaconda3\\lib\\site-packages\\sklearn\\cluster\\_kmeans.py:1332: UserWarning: KMeans is known to have a memory leak on Windows with MKL, when there are less chunks than available threads. You can avoid it by setting the environment variable OMP_NUM_THREADS=1.\n",
      "  warnings.warn(\n"
     ]
    },
    {
     "data": {
      "text/plain": [
       "{0: [2, 5, 8, 11, 14], 1: [1, 7, 10, 13], 2: [0, 3, 4, 6, 9, 12]}"
      ]
     },
     "execution_count": 6,
     "metadata": {},
     "output_type": "execute_result"
    }
   ],
   "source": [
    "KM.K_MEANS(S[1], 3) # ROws"
   ]
  },
  {
   "cell_type": "code",
   "execution_count": 61,
   "metadata": {},
   "outputs": [],
   "source": [
    "#final.plotter(KM.K_MEANS(S[1], 3), original)\n",
    "#final.plotter(KM.K_MEANS(S[0], 3), original)"
   ]
  }
 ],
 "metadata": {
  "kernelspec": {
   "display_name": "base",
   "language": "python",
   "name": "python3"
  },
  "language_info": {
   "codemirror_mode": {
    "name": "ipython",
    "version": 3
   },
   "file_extension": ".py",
   "mimetype": "text/x-python",
   "name": "python",
   "nbconvert_exporter": "python",
   "pygments_lexer": "ipython3",
   "version": "3.9.7"
  },
  "orig_nbformat": 4,
  "vscode": {
   "interpreter": {
    "hash": "892ec26df7909c16895f2faa665477dacb6ec5f5af16b33b2ebfd6a8b8d32d0d"
   }
  }
 },
 "nbformat": 4,
 "nbformat_minor": 2
}
