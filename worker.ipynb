{
 "cells": [
  {
   "cell_type": "code",
   "execution_count": null,
   "metadata": {},
   "outputs": [],
   "source": []
  }
 ],
 "metadata": {
  "kernelspec": {
   "display_name": "base",
   "language": "python",
   "name": "python3"
  },
  "language_info": {
   "name": "python",
   "version": "3.9.7"
  },
  "orig_nbformat": 4,
  "vscode": {
   "interpreter": {
    "hash": "892ec26df7909c16895f2faa665477dacb6ec5f5af16b33b2ebfd6a8b8d32d0d"
   }
  }
 },
 "nbformat": 4,
 "nbformat_minor": 2
}
